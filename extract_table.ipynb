{
 "cells": [
  {
   "cell_type": "markdown",
   "metadata": {},
   "source": [
    "# File"
   ]
  },
  {
   "cell_type": "code",
   "execution_count": 46,
   "metadata": {
    "ExecuteTime": {
     "end_time": "2021-05-09T09:24:55.818850Z",
     "start_time": "2021-05-09T09:24:55.792934Z"
    },
    "collapsed": true
   },
   "outputs": [],
   "source": [
    "file = \"data/seminar8.pdf\""
   ]
  },
  {
   "cell_type": "markdown",
   "metadata": {},
   "source": [
    "# Find Image"
   ]
  },
  {
   "cell_type": "code",
   "execution_count": 57,
   "metadata": {
    "ExecuteTime": {
     "end_time": "2021-05-09T09:48:43.189953Z",
     "start_time": "2021-05-09T09:48:43.059821Z"
    }
   },
   "outputs": [],
   "source": [
    "!qpdf \"data/seminar8.pdf\" --pages \"data/seminar8.pdf\" 1 -- \"data/output/seminar8_1.pdf\"\n",
    "!grep --color -a 'Image' \"data/output/seminar8_1.pdf\""
   ]
  },
  {
   "cell_type": "code",
   "execution_count": 59,
   "metadata": {
    "ExecuteTime": {
     "end_time": "2021-05-09T09:49:28.187275Z",
     "start_time": "2021-05-09T09:49:28.055888Z"
    }
   },
   "outputs": [],
   "source": [
    "!qpdf \"data/seminar8.pdf\" --pages \"data/seminar8.pdf\" 13 -- \"data/output/seminar8_13.pdf\"\n",
    "!grep --color -a 'Image' \"data/output/seminar8_13.pdf\""
   ]
  },
  {
   "cell_type": "code",
   "execution_count": 60,
   "metadata": {
    "ExecuteTime": {
     "end_time": "2021-05-09T09:49:50.849626Z",
     "start_time": "2021-05-09T09:49:50.714053Z"
    }
   },
   "outputs": [
    {
     "name": "stdout",
     "output_type": "stream",
     "text": [
      "<< /Contents 660 0 R /CropBox [ 0 0 595.22 842 ] /MediaBox [ 0 0 595.22 842 ] /Parent 5 0 R /Resources << /ColorSpace << /CS0 661 0 R /CS1 662 0 R /CS2 663 0 R /CS3 664 0 R /CS4 665 0 R /CS5 666 0 R /CS6 667 0 R /CS7 668 0 R >> /ExtGState << /GS0 669 0 R >> /Font << /TT0 670 0 R /TT1 671 0 R >> /ProcSet [ /PDF /Text /\u001b[01;31m\u001b[KImage\u001b[m\u001b[KC /\u001b[01;31m\u001b[KImage\u001b[m\u001b[KI ] /XObject << /Im0 672 0 R /Im1 673 0 R /Im2 674 0 R /Im3 675 0 R /Im4 676 0 R /Im5 677 0 R /Im6 678 0 R /Im7 679 0 R >> >> /Rotate 0 /StructParents 14 /Type /Page >>\r\n",
      "<< /BitsPerComponent 8 /ColorSpace 661 0 R /Filter /FlateDecode /Height 126 /Subtype /\u001b[01;31m\u001b[KImage\u001b[m\u001b[K /Type /XObject /Width 447 /Length 2262 >>\r\n",
      "<< /BitsPerComponent 8 /ColorSpace 662 0 R /Filter /FlateDecode /Height 126 /Subtype /\u001b[01;31m\u001b[KImage\u001b[m\u001b[K /Type /XObject /Width 447 /Length 1429 >>\r\n",
      "<< /BitsPerComponent 8 /ColorSpace 663 0 R /Filter /FlateDecode /Height 126 /Subtype /\u001b[01;31m\u001b[KImage\u001b[m\u001b[K /Type /XObject /Width 447 /Length 2941 >>\r\n",
      "<< /BitsPerComponent 8 /ColorSpace 664 0 R /Filter /FlateDecode /Height 126 /Subtype /\u001b[01;31m\u001b[KImage\u001b[m\u001b[K /Type /XObject /Width 447 /Length 1662 >>\r\n",
      "<< /BitsPerComponent 8 /ColorSpace 665 0 R /Filter /FlateDecode /Height 126 /Subtype /\u001b[01;31m\u001b[KImage\u001b[m\u001b[K /Type /XObject /Width 447 /Length 2450 >>\r\n",
      "<< /BitsPerComponent 8 /ColorSpace 666 0 R /Filter /FlateDecode /Height 126 /Subtype /\u001b[01;31m\u001b[KImage\u001b[m\u001b[K /Type /XObject /Width 447 /Length 1408 >>\r\n",
      "<< /BitsPerComponent 8 /ColorSpace 667 0 R /Filter /FlateDecode /Height 126 /Subtype /\u001b[01;31m\u001b[KImage\u001b[m\u001b[K /Type /XObject /Width 447 /Length 2745 >>\r\n",
      "<< /BitsPerComponent 8 /ColorSpace 668 0 R /Filter /FlateDecode /Height 126 /Subtype /\u001b[01;31m\u001b[KImage\u001b[m\u001b[K /Type /XObject /Width 447 /Length 2113 >>\r\n"
     ]
    }
   ],
   "source": [
    "!qpdf \"data/seminar8.pdf\" --pages \"data/seminar8.pdf\" 14 -- \"data/output/seminar8_14.pdf\"\n",
    "!grep --color -a 'Image' \"data/output/seminar8_14.pdf\""
   ]
  },
  {
   "cell_type": "markdown",
   "metadata": {},
   "source": [
    "# Tabula"
   ]
  },
  {
   "cell_type": "code",
   "execution_count": 18,
   "metadata": {
    "ExecuteTime": {
     "end_time": "2021-05-09T09:11:45.498919Z",
     "start_time": "2021-05-09T09:11:45.487660Z"
    },
    "collapsed": true
   },
   "outputs": [],
   "source": [
    "import tabula"
   ]
  },
  {
   "cell_type": "code",
   "execution_count": 24,
   "metadata": {
    "ExecuteTime": {
     "end_time": "2021-05-09T09:13:00.441335Z",
     "start_time": "2021-05-09T09:12:59.144507Z"
    }
   },
   "outputs": [
    {
     "name": "stderr",
     "output_type": "stream",
     "text": [
      "Got stderr: May 09, 2021 2:42:59 PM org.apache.pdfbox.pdmodel.font.PDTrueTypeFont <init>\n",
      "WARNING: Using fallback font 'LiberationSans-Bold' for 'CenturyGothic-Bold'\n",
      "May 09, 2021 2:42:59 PM org.apache.pdfbox.pdmodel.font.PDTrueTypeFont <init>\n",
      "WARNING: Using fallback font 'LiberationSans-Italic' for 'CenturyGothic-Italic'\n",
      "May 09, 2021 2:43:00 PM org.apache.pdfbox.pdmodel.font.PDTrueTypeFont <init>\n",
      "WARNING: Using fallback font 'LiberationSerif' for 'TimesNewRomanPSMT'\n",
      "May 09, 2021 2:43:00 PM org.apache.pdfbox.pdmodel.font.PDTrueTypeFont <init>\n",
      "WARNING: Using fallback font 'LiberationSerif' for 'CourierNewPSMT'\n",
      "\n"
     ]
    },
    {
     "data": {
      "text/plain": [
       "2"
      ]
     },
     "execution_count": 24,
     "metadata": {},
     "output_type": "execute_result"
    }
   ],
   "source": [
    "tables = tabula.read_pdf(file, pages='all', \n",
    "                         lattice=True, \n",
    "                         stream=True,\n",
    "                         multiple_tables=True)\n",
    "len(tables)"
   ]
  },
  {
   "cell_type": "code",
   "execution_count": 25,
   "metadata": {
    "ExecuteTime": {
     "end_time": "2021-05-09T09:13:03.463822Z",
     "start_time": "2021-05-09T09:13:03.442465Z"
    }
   },
   "outputs": [
    {
     "data": {
      "text/html": [
       "<div>\n",
       "<style scoped>\n",
       "    .dataframe tbody tr th:only-of-type {\n",
       "        vertical-align: middle;\n",
       "    }\n",
       "\n",
       "    .dataframe tbody tr th {\n",
       "        vertical-align: top;\n",
       "    }\n",
       "\n",
       "    .dataframe thead th {\n",
       "        text-align: right;\n",
       "    }\n",
       "</style>\n",
       "<table border=\"1\" class=\"dataframe\">\n",
       "  <thead>\n",
       "    <tr style=\"text-align: right;\">\n",
       "      <th></th>\n",
       "      <th>Sets of inputs</th>\n",
       "      <th>Neural networks</th>\n",
       "      <th>Unnamed: 0</th>\n",
       "      <th>Unnamed: 1</th>\n",
       "    </tr>\n",
       "  </thead>\n",
       "  <tbody>\n",
       "    <tr>\n",
       "      <th>0</th>\n",
       "      <td>NaN</td>\n",
       "      <td>Multilayer\\rperceptron</td>\n",
       "      <td>Radial basis\\rfunction\\rnetwork</td>\n",
       "      <td>Probabilistic\\rneural network</td>\n",
       "    </tr>\n",
       "    <tr>\n",
       "      <th>1</th>\n",
       "      <td>training +\\rvalidation</td>\n",
       "      <td>99.483%</td>\n",
       "      <td>99.225%</td>\n",
       "      <td>98.450%</td>\n",
       "    </tr>\n",
       "    <tr>\n",
       "      <th>2</th>\n",
       "      <td>test</td>\n",
       "      <td>96.825%</td>\n",
       "      <td>100%</td>\n",
       "      <td>95.238%</td>\n",
       "    </tr>\n",
       "  </tbody>\n",
       "</table>\n",
       "</div>"
      ],
      "text/plain": [
       "           Sets of inputs         Neural networks  \\\n",
       "0                     NaN  Multilayer\\rperceptron   \n",
       "1  training +\\rvalidation                 99.483%   \n",
       "2                    test                 96.825%   \n",
       "\n",
       "                        Unnamed: 0                     Unnamed: 1  \n",
       "0  Radial basis\\rfunction\\rnetwork  Probabilistic\\rneural network  \n",
       "1                          99.225%                        98.450%  \n",
       "2                             100%                        95.238%  "
      ]
     },
     "execution_count": 25,
     "metadata": {},
     "output_type": "execute_result"
    }
   ],
   "source": [
    "tables[0]"
   ]
  },
  {
   "cell_type": "code",
   "execution_count": 26,
   "metadata": {
    "ExecuteTime": {
     "end_time": "2021-05-09T09:13:05.271304Z",
     "start_time": "2021-05-09T09:13:05.249755Z"
    }
   },
   "outputs": [
    {
     "data": {
      "text/html": [
       "<div>\n",
       "<style scoped>\n",
       "    .dataframe tbody tr th:only-of-type {\n",
       "        vertical-align: middle;\n",
       "    }\n",
       "\n",
       "    .dataframe tbody tr th {\n",
       "        vertical-align: top;\n",
       "    }\n",
       "\n",
       "    .dataframe thead th {\n",
       "        text-align: right;\n",
       "    }\n",
       "</style>\n",
       "<table border=\"1\" class=\"dataframe\">\n",
       "  <thead>\n",
       "    <tr style=\"text-align: right;\">\n",
       "      <th></th>\n",
       "      <th>Sets of inputs</th>\n",
       "      <th>Neural networks</th>\n",
       "      <th>Unnamed: 0</th>\n",
       "      <th>Unnamed: 1</th>\n",
       "    </tr>\n",
       "  </thead>\n",
       "  <tbody>\n",
       "    <tr>\n",
       "      <th>0</th>\n",
       "      <td>NaN</td>\n",
       "      <td>Multilayer\\rperceptron</td>\n",
       "      <td>Radial basis\\rfunction\\rnetwork</td>\n",
       "      <td>Probabilistic\\rneural\\rnetwork</td>\n",
       "    </tr>\n",
       "    <tr>\n",
       "      <th>1</th>\n",
       "      <td>training +\\rvalidation</td>\n",
       "      <td>100%</td>\n",
       "      <td>99.483%</td>\n",
       "      <td>100%</td>\n",
       "    </tr>\n",
       "    <tr>\n",
       "      <th>2</th>\n",
       "      <td>test</td>\n",
       "      <td>96.825%</td>\n",
       "      <td>96.825%</td>\n",
       "      <td>95.238%</td>\n",
       "    </tr>\n",
       "  </tbody>\n",
       "</table>\n",
       "</div>"
      ],
      "text/plain": [
       "           Sets of inputs         Neural networks  \\\n",
       "0                     NaN  Multilayer\\rperceptron   \n",
       "1  training +\\rvalidation                    100%   \n",
       "2                    test                 96.825%   \n",
       "\n",
       "                        Unnamed: 0                      Unnamed: 1  \n",
       "0  Radial basis\\rfunction\\rnetwork  Probabilistic\\rneural\\rnetwork  \n",
       "1                          99.483%                            100%  \n",
       "2                          96.825%                         95.238%  "
      ]
     },
     "execution_count": 26,
     "metadata": {},
     "output_type": "execute_result"
    }
   ],
   "source": [
    "tables[1]"
   ]
  },
  {
   "cell_type": "markdown",
   "metadata": {},
   "source": [
    "# Camelot"
   ]
  },
  {
   "cell_type": "code",
   "execution_count": 33,
   "metadata": {
    "ExecuteTime": {
     "end_time": "2021-05-09T09:20:06.421920Z",
     "start_time": "2021-05-09T09:20:06.413988Z"
    },
    "collapsed": true
   },
   "outputs": [],
   "source": [
    "import camelot"
   ]
  },
  {
   "cell_type": "code",
   "execution_count": 41,
   "metadata": {
    "ExecuteTime": {
     "end_time": "2021-05-09T09:21:08.541750Z",
     "start_time": "2021-05-09T09:20:50.166402Z"
    }
   },
   "outputs": [
    {
     "data": {
      "text/plain": [
       "4"
      ]
     },
     "execution_count": 41,
     "metadata": {},
     "output_type": "execute_result"
    }
   ],
   "source": [
    "tables = camelot.read_pdf(file, pages='1-end', flavor='lattice')\n",
    "tables.n"
   ]
  },
  {
   "cell_type": "code",
   "execution_count": 42,
   "metadata": {
    "ExecuteTime": {
     "end_time": "2021-05-09T09:21:08.587004Z",
     "start_time": "2021-05-09T09:21:08.578461Z"
    }
   },
   "outputs": [
    {
     "name": "stdout",
     "output_type": "stream",
     "text": [
      "{'accuracy': 0, 'whitespace': 100.0, 'order': 1, 'page': 10}\n"
     ]
    },
    {
     "data": {
      "text/html": [
       "<div>\n",
       "<style scoped>\n",
       "    .dataframe tbody tr th:only-of-type {\n",
       "        vertical-align: middle;\n",
       "    }\n",
       "\n",
       "    .dataframe tbody tr th {\n",
       "        vertical-align: top;\n",
       "    }\n",
       "\n",
       "    .dataframe thead th {\n",
       "        text-align: right;\n",
       "    }\n",
       "</style>\n",
       "<table border=\"1\" class=\"dataframe\">\n",
       "  <thead>\n",
       "    <tr style=\"text-align: right;\">\n",
       "      <th></th>\n",
       "      <th>0</th>\n",
       "      <th>1</th>\n",
       "      <th>2</th>\n",
       "      <th>3</th>\n",
       "    </tr>\n",
       "  </thead>\n",
       "  <tbody>\n",
       "    <tr>\n",
       "      <th>0</th>\n",
       "      <td></td>\n",
       "      <td></td>\n",
       "      <td></td>\n",
       "      <td></td>\n",
       "    </tr>\n",
       "    <tr>\n",
       "      <th>1</th>\n",
       "      <td></td>\n",
       "      <td></td>\n",
       "      <td></td>\n",
       "      <td></td>\n",
       "    </tr>\n",
       "  </tbody>\n",
       "</table>\n",
       "</div>"
      ],
      "text/plain": [
       "  0 1 2 3\n",
       "0        \n",
       "1        "
      ]
     },
     "execution_count": 42,
     "metadata": {},
     "output_type": "execute_result"
    }
   ],
   "source": [
    "print(tables[0].parsing_report)\n",
    "tables[0].df"
   ]
  },
  {
   "cell_type": "code",
   "execution_count": 43,
   "metadata": {
    "ExecuteTime": {
     "end_time": "2021-05-09T09:21:08.713410Z",
     "start_time": "2021-05-09T09:21:08.623021Z"
    }
   },
   "outputs": [
    {
     "name": "stdout",
     "output_type": "stream",
     "text": [
      "{'accuracy': 0, 'whitespace': 100.0, 'order': 1, 'page': 11}\n"
     ]
    },
    {
     "data": {
      "text/html": [
       "<div>\n",
       "<style scoped>\n",
       "    .dataframe tbody tr th:only-of-type {\n",
       "        vertical-align: middle;\n",
       "    }\n",
       "\n",
       "    .dataframe tbody tr th {\n",
       "        vertical-align: top;\n",
       "    }\n",
       "\n",
       "    .dataframe thead th {\n",
       "        text-align: right;\n",
       "    }\n",
       "</style>\n",
       "<table border=\"1\" class=\"dataframe\">\n",
       "  <thead>\n",
       "    <tr style=\"text-align: right;\">\n",
       "      <th></th>\n",
       "      <th>0</th>\n",
       "      <th>1</th>\n",
       "    </tr>\n",
       "  </thead>\n",
       "  <tbody>\n",
       "    <tr>\n",
       "      <th>0</th>\n",
       "      <td></td>\n",
       "      <td></td>\n",
       "    </tr>\n",
       "    <tr>\n",
       "      <th>1</th>\n",
       "      <td></td>\n",
       "      <td></td>\n",
       "    </tr>\n",
       "    <tr>\n",
       "      <th>2</th>\n",
       "      <td></td>\n",
       "      <td></td>\n",
       "    </tr>\n",
       "  </tbody>\n",
       "</table>\n",
       "</div>"
      ],
      "text/plain": [
       "  0 1\n",
       "0    \n",
       "1    \n",
       "2    "
      ]
     },
     "execution_count": 43,
     "metadata": {},
     "output_type": "execute_result"
    }
   ],
   "source": [
    "print(tables[1].parsing_report)\n",
    "tables[1].df"
   ]
  },
  {
   "cell_type": "code",
   "execution_count": 44,
   "metadata": {
    "ExecuteTime": {
     "end_time": "2021-05-09T09:21:08.849929Z",
     "start_time": "2021-05-09T09:21:08.758746Z"
    }
   },
   "outputs": [
    {
     "name": "stdout",
     "output_type": "stream",
     "text": [
      "{'accuracy': 100.0, 'whitespace': 18.75, 'order': 1, 'page': 12}\n"
     ]
    },
    {
     "data": {
      "text/html": [
       "<div>\n",
       "<style scoped>\n",
       "    .dataframe tbody tr th:only-of-type {\n",
       "        vertical-align: middle;\n",
       "    }\n",
       "\n",
       "    .dataframe tbody tr th {\n",
       "        vertical-align: top;\n",
       "    }\n",
       "\n",
       "    .dataframe thead th {\n",
       "        text-align: right;\n",
       "    }\n",
       "</style>\n",
       "<table border=\"1\" class=\"dataframe\">\n",
       "  <thead>\n",
       "    <tr style=\"text-align: right;\">\n",
       "      <th></th>\n",
       "      <th>0</th>\n",
       "      <th>1</th>\n",
       "      <th>2</th>\n",
       "      <th>3</th>\n",
       "    </tr>\n",
       "  </thead>\n",
       "  <tbody>\n",
       "    <tr>\n",
       "      <th>0</th>\n",
       "      <td>Sets of inputs</td>\n",
       "      <td>Neural networks</td>\n",
       "      <td></td>\n",
       "      <td></td>\n",
       "    </tr>\n",
       "    <tr>\n",
       "      <th>1</th>\n",
       "      <td></td>\n",
       "      <td>Multilayer \\nperceptron</td>\n",
       "      <td>Radial basis \\nfunction \\nnetwork</td>\n",
       "      <td>Probabilistic \\nneural network</td>\n",
       "    </tr>\n",
       "    <tr>\n",
       "      <th>2</th>\n",
       "      <td>training + \\nvalidation</td>\n",
       "      <td>99.483%</td>\n",
       "      <td>99.225%</td>\n",
       "      <td>98.450%</td>\n",
       "    </tr>\n",
       "    <tr>\n",
       "      <th>3</th>\n",
       "      <td>test</td>\n",
       "      <td>96.825%</td>\n",
       "      <td>100%</td>\n",
       "      <td>95.238%</td>\n",
       "    </tr>\n",
       "  </tbody>\n",
       "</table>\n",
       "</div>"
      ],
      "text/plain": [
       "                         0                        1  \\\n",
       "0           Sets of inputs          Neural networks   \n",
       "1                           Multilayer \\nperceptron   \n",
       "2  training + \\nvalidation                  99.483%   \n",
       "3                     test                  96.825%   \n",
       "\n",
       "                                   2                               3  \n",
       "0                                                                     \n",
       "1  Radial basis \\nfunction \\nnetwork  Probabilistic \\nneural network  \n",
       "2                            99.225%                         98.450%  \n",
       "3                               100%                         95.238%  "
      ]
     },
     "execution_count": 44,
     "metadata": {},
     "output_type": "execute_result"
    }
   ],
   "source": [
    "print(tables[2].parsing_report)\n",
    "tables[2].df"
   ]
  },
  {
   "cell_type": "code",
   "execution_count": 45,
   "metadata": {
    "ExecuteTime": {
     "end_time": "2021-05-09T09:21:08.977196Z",
     "start_time": "2021-05-09T09:21:08.888142Z"
    }
   },
   "outputs": [
    {
     "name": "stdout",
     "output_type": "stream",
     "text": [
      "{'accuracy': 99.94, 'whitespace': 18.75, 'order': 1, 'page': 13}\n"
     ]
    },
    {
     "data": {
      "text/html": [
       "<div>\n",
       "<style scoped>\n",
       "    .dataframe tbody tr th:only-of-type {\n",
       "        vertical-align: middle;\n",
       "    }\n",
       "\n",
       "    .dataframe tbody tr th {\n",
       "        vertical-align: top;\n",
       "    }\n",
       "\n",
       "    .dataframe thead th {\n",
       "        text-align: right;\n",
       "    }\n",
       "</style>\n",
       "<table border=\"1\" class=\"dataframe\">\n",
       "  <thead>\n",
       "    <tr style=\"text-align: right;\">\n",
       "      <th></th>\n",
       "      <th>0</th>\n",
       "      <th>1</th>\n",
       "      <th>2</th>\n",
       "      <th>3</th>\n",
       "    </tr>\n",
       "  </thead>\n",
       "  <tbody>\n",
       "    <tr>\n",
       "      <th>0</th>\n",
       "      <td>Sets of inputs</td>\n",
       "      <td>Neural networks</td>\n",
       "      <td></td>\n",
       "      <td></td>\n",
       "    </tr>\n",
       "    <tr>\n",
       "      <th>1</th>\n",
       "      <td></td>\n",
       "      <td>Multilayer \\nperceptron</td>\n",
       "      <td>Radial basis \\nfunction \\nnetwork</td>\n",
       "      <td>Probabilistic \\nneural \\nnetwork</td>\n",
       "    </tr>\n",
       "    <tr>\n",
       "      <th>2</th>\n",
       "      <td>training + \\nvalidation</td>\n",
       "      <td>100%</td>\n",
       "      <td>99.483%</td>\n",
       "      <td>100%</td>\n",
       "    </tr>\n",
       "    <tr>\n",
       "      <th>3</th>\n",
       "      <td>test</td>\n",
       "      <td>96.825%</td>\n",
       "      <td>96.825%</td>\n",
       "      <td>95.238%</td>\n",
       "    </tr>\n",
       "  </tbody>\n",
       "</table>\n",
       "</div>"
      ],
      "text/plain": [
       "                         0                        1  \\\n",
       "0           Sets of inputs          Neural networks   \n",
       "1                           Multilayer \\nperceptron   \n",
       "2  training + \\nvalidation                     100%   \n",
       "3                     test                  96.825%   \n",
       "\n",
       "                                   2                                 3  \n",
       "0                                                                       \n",
       "1  Radial basis \\nfunction \\nnetwork  Probabilistic \\nneural \\nnetwork  \n",
       "2                            99.483%                              100%  \n",
       "3                            96.825%                           95.238%  "
      ]
     },
     "execution_count": 45,
     "metadata": {},
     "output_type": "execute_result"
    }
   ],
   "source": [
    "print(tables[3].parsing_report)\n",
    "tables[3].df"
   ]
  },
  {
   "cell_type": "markdown",
   "metadata": {
    "heading_collapsed": true
   },
   "source": [
    "# Smallpdf"
   ]
  },
  {
   "cell_type": "code",
   "execution_count": 14,
   "metadata": {
    "ExecuteTime": {
     "end_time": "2021-05-09T09:03:24.540269Z",
     "start_time": "2021-05-09T09:03:24.526121Z"
    },
    "collapsed": true,
    "hidden": true
   },
   "outputs": [],
   "source": [
    "import webbrowser"
   ]
  },
  {
   "cell_type": "code",
   "execution_count": 15,
   "metadata": {
    "ExecuteTime": {
     "end_time": "2021-05-09T09:05:03.136212Z",
     "start_time": "2021-05-09T09:05:03.104494Z"
    },
    "hidden": true
   },
   "outputs": [
    {
     "data": {
      "text/plain": [
       "True"
      ]
     },
     "execution_count": 15,
     "metadata": {},
     "output_type": "execute_result"
    }
   ],
   "source": [
    "webbrowser.open('https://smallpdf.com/pdf-to-excel')"
   ]
  },
  {
   "cell_type": "markdown",
   "metadata": {
    "heading_collapsed": true
   },
   "source": [
    "# Cometdocs"
   ]
  },
  {
   "cell_type": "code",
   "execution_count": 28,
   "metadata": {
    "ExecuteTime": {
     "end_time": "2021-05-09T09:14:55.584865Z",
     "start_time": "2021-05-09T09:14:55.572817Z"
    },
    "collapsed": true,
    "hidden": true
   },
   "outputs": [],
   "source": [
    "import webbrowser"
   ]
  },
  {
   "cell_type": "code",
   "execution_count": 31,
   "metadata": {
    "ExecuteTime": {
     "end_time": "2021-05-09T09:16:17.465943Z",
     "start_time": "2021-05-09T09:16:17.443404Z"
    },
    "hidden": true
   },
   "outputs": [
    {
     "data": {
      "text/plain": [
       "True"
      ]
     },
     "execution_count": 31,
     "metadata": {},
     "output_type": "execute_result"
    }
   ],
   "source": [
    "webbrowser.open('https://cometdocs.com/file/manager')"
   ]
  },
  {
   "cell_type": "markdown",
   "metadata": {
    "ExecuteTime": {
     "end_time": "2021-05-09T08:42:44.585063Z",
     "start_time": "2021-05-09T08:42:44.464389Z"
    },
    "heading_collapsed": true
   },
   "source": [
    "# Excalibur"
   ]
  },
  {
   "cell_type": "code",
   "execution_count": 12,
   "metadata": {
    "ExecuteTime": {
     "end_time": "2021-05-09T09:00:58.701099Z",
     "start_time": "2021-05-09T09:00:56.796854Z"
    },
    "hidden": true
   },
   "outputs": [],
   "source": [
    "!excalibur initdb"
   ]
  },
  {
   "cell_type": "code",
   "execution_count": 13,
   "metadata": {
    "ExecuteTime": {
     "end_time": "2021-05-09T09:02:18.768308Z",
     "start_time": "2021-05-09T09:00:58.707396Z"
    },
    "hidden": true
   },
   "outputs": [
    {
     "name": "stdout",
     "output_type": "stream",
     "text": [
      " * Serving Flask app \"excalibur.www.app\" (lazy loading)\n",
      " * Environment: production\n",
      "\u001b[31m   WARNING: This is a development server. Do not use it in a production deployment.\u001b[0m\n",
      "\u001b[2m   Use a production WSGI server instead.\u001b[0m\n",
      " * Debug mode: off\n",
      " * Running on http://127.0.0.1:5000/ (Press CTRL+C to quit)\n",
      "^C\n"
     ]
    }
   ],
   "source": [
    "!excalibur webserver"
   ]
  }
 ],
 "metadata": {
  "kernelspec": {
   "display_name": "Python 3",
   "language": "python",
   "name": "python3"
  },
  "language_info": {
   "codemirror_mode": {
    "name": "ipython",
    "version": 3
   },
   "file_extension": ".py",
   "mimetype": "text/x-python",
   "name": "python",
   "nbconvert_exporter": "python",
   "pygments_lexer": "ipython3",
   "version": "3.6.7"
  },
  "toc": {
   "nav_menu": {},
   "number_sections": true,
   "sideBar": true,
   "skip_h1_title": false,
   "title_cell": "Table of Contents",
   "title_sidebar": "Contents",
   "toc_cell": false,
   "toc_position": {
    "height": "calc(100% - 180px)",
    "left": "10px",
    "top": "150px",
    "width": "165px"
   },
   "toc_section_display": true,
   "toc_window_display": true
  },
  "varInspector": {
   "cols": {
    "lenName": 16,
    "lenType": 16,
    "lenVar": 40
   },
   "kernels_config": {
    "python": {
     "delete_cmd_postfix": "",
     "delete_cmd_prefix": "del ",
     "library": "var_list.py",
     "varRefreshCmd": "print(var_dic_list())"
    },
    "r": {
     "delete_cmd_postfix": ") ",
     "delete_cmd_prefix": "rm(",
     "library": "var_list.r",
     "varRefreshCmd": "cat(var_dic_list()) "
    }
   },
   "types_to_exclude": [
    "module",
    "function",
    "builtin_function_or_method",
    "instance",
    "_Feature"
   ],
   "window_display": false
  }
 },
 "nbformat": 4,
 "nbformat_minor": 2
}
